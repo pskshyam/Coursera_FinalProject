{
 "cells": [
  {
   "cell_type": "markdown",
   "metadata": {},
   "source": [
    "### Introduction to Business Problem"
   ]
  },
  {
   "cell_type": "markdown",
   "metadata": {},
   "source": [
    "A job recruiting & consulting company wants to know the similarities between two geographical locations so that people who got to move on to a new location on a new job offer can know the new location well in advance. The company wants to provide this as an add-on feature for people who want to apply to job opportunities in different geographical locations and move to the new location."
   ]
  },
  {
   "cell_type": "markdown",
   "metadata": {},
   "source": [
    "### Data Description"
   ]
  },
  {
   "cell_type": "markdown",
   "metadata": {},
   "source": [
    "For execution of this project, I am going to take New York and Philadelphia neighborhoods data and compare each city by leveraging FourSquare location data."
   ]
  },
  {
   "cell_type": "markdown",
   "metadata": {},
   "source": [
    "<ul>\n",
    "<li>For New York neighborhoods, I am going to use existing data file</li>\n",
    "<li>For Philadelphia neighborhoods, I am going to scrape a Wikipedia page</li> https://en.wikipedia.org/wiki/List_of_Philadelphia_neighborhoods\n",
    "</ul>"
   ]
  },
  {
   "cell_type": "markdown",
   "metadata": {},
   "source": [
    "For both the cities, I am going to get neighborhood names and their geographical coordinates as shown in the below sample."
   ]
  },
  {
   "cell_type": "markdown",
   "metadata": {},
   "source": [
    "<img src=\"newyork_data.JPG\">"
   ]
  },
  {
   "cell_type": "markdown",
   "metadata": {},
   "source": [
    "<b>We retrieve location data for each neighborhood by passing their geographical coordinates to FourSquare API \"explore\" option.</b>"
   ]
  },
  {
   "cell_type": "markdown",
   "metadata": {},
   "source": [
    "Based on the location data retrieved from FourSquare API, I process the data to get the top 10 most common venues for each neighborhood. I use the resulting dataset for clustering and find out different clusters of neighborhoods. Below is the sample of FourSquare API venues data."
   ]
  },
  {
   "cell_type": "markdown",
   "metadata": {},
   "source": [
    "<img src=\"foursquare_data.JPG\">"
   ]
  },
  {
   "cell_type": "markdown",
   "metadata": {},
   "source": [
    "### Methodology"
   ]
  },
  {
   "cell_type": "markdown",
   "metadata": {},
   "source": [
    "<b>Data collection & Preprocessing:</b>\n",
    "\n",
    "Scrape the Philadelphia neighborhoods data from Wikipedia page https://en.wikipedia.org/wiki/List_of_Philadelphia_neighborhoods\n",
    "1. Check the scraped data for any duplicate values and presence of any null values\n",
    "2. Convert latitude and longitude values of each neighborhood from object to float values.\n",
    "3. Save the data into a csv file.\n",
    "\n",
    "Load the New York neighborhoods data from an already existing file.\n",
    "1. Check the scraped data for any duplicate values and presence of any null values\n",
    "2. Drop duplicate values\n",
    "3. Convert latitude and longitude values of each neighborhood from object to float values.\n",
    "\n",
    "Concat both cities neighborhoods data into one single dataframe.\n",
    "\n",
    "<b>Plot neighborhoods using Folium Maps:</b>\n",
    "\n",
    "Pick one center geographical location for New York and Philadelphia cities and use Folium map to plot both cities neighborhoods with appropriate Zoom level.\n",
    "\n",
    "<b>Explore Neighborhoods using FourSquare API:</b>\n",
    "\n",
    "Explore these neighborhoods by using FourSquare explore API call by passing each neighborhood geographical coordinates along with FourSquare API credentials. As result, we get all the venues, their geographical coordinates and their categories of each neighborhood.\n",
    "\n",
    "<b>Analyze each neighborhood venues:</b>\n",
    "\n",
    "Once we get venues data from FourSquare for each neighborhood in New York and Philadelphia:\n",
    "1. Start analyzing each neighborhood for its venues and their categories.\n",
    "2. One-hot encode each venue category and add Neighborhood to the resulting dataframe.\n",
    "3. Group the new dataframe based on Neighborhood column and take the mean of all one-hot encoded venue columns.\n",
    "4. Sort the values in descending order and take top 10 venues as most common places for each neighborhood.\n",
    "5. Apply K-Means clustering algorithm to get the neighborhoods segmented into 3 clusters.\n",
    "6. Add the cluster label to the above dataframe and plot it using Folium maps library."
   ]
  },
  {
   "cell_type": "markdown",
   "metadata": {},
   "source": [
    "### Results"
   ]
  },
  {
   "cell_type": "markdown",
   "metadata": {},
   "source": [
    "Let us look at the clusters formed for New York and Philadelphia neighborhoods."
   ]
  },
  {
   "cell_type": "markdown",
   "metadata": {},
   "source": [
    "<center><b>New York Neighborhoods</b></center>\n",
    "<img src='folium_map_ny.JPG'>"
   ]
  },
  {
   "cell_type": "markdown",
   "metadata": {},
   "source": [
    "<center><b>Philadelphia Neighborhoods</b></center>\n",
    "<img src='folium_map_phil.JPG'>"
   ]
  },
  {
   "cell_type": "markdown",
   "metadata": {},
   "source": [
    "### Discussion"
   ]
  },
  {
   "cell_type": "markdown",
   "metadata": {},
   "source": [
    "All the neighborhoods in New York and Philadelphia cities are segmented into 3 different clusters.\n",
    "\n",
    "1. Violet Cluster\n",
    "2. Red Cluster\n",
    "3. Green Cluster\n",
    "\n",
    "In both New York and Philadelphia cities, Violet cluster has majority neighborhoods followed by Red cluster and Green Cluster."
   ]
  },
  {
   "cell_type": "markdown",
   "metadata": {},
   "source": [
    "### Conclusion"
   ]
  },
  {
   "cell_type": "markdown",
   "metadata": {},
   "source": [
    "<b>By seeing the clusters in the above map, we can conclude that both New York and Philadelphia cities are more or less similar to each other.</b>"
   ]
  }
 ],
 "metadata": {
  "kernelspec": {
   "display_name": "Python 3",
   "language": "python",
   "name": "python3"
  },
  "language_info": {
   "codemirror_mode": {
    "name": "ipython",
    "version": 3
   },
   "file_extension": ".py",
   "mimetype": "text/x-python",
   "name": "python",
   "nbconvert_exporter": "python",
   "pygments_lexer": "ipython3",
   "version": "3.6.0"
  },
  "latex_envs": {
   "LaTeX_envs_menu_present": true,
   "autoclose": false,
   "autocomplete": true,
   "bibliofile": "biblio.bib",
   "cite_by": "apalike",
   "current_citInitial": 1,
   "eqLabelWithNumbers": true,
   "eqNumInitial": 1,
   "hotkeys": {
    "equation": "Ctrl-E",
    "itemize": "Ctrl-I"
   },
   "labels_anchors": false,
   "latex_user_defs": false,
   "report_style_numbering": false,
   "user_envs_cfg": false
  },
  "toc": {
   "base_numbering": 1,
   "nav_menu": {},
   "number_sections": true,
   "sideBar": true,
   "skip_h1_title": false,
   "title_cell": "Table of Contents",
   "title_sidebar": "Contents",
   "toc_cell": false,
   "toc_position": {},
   "toc_section_display": true,
   "toc_window_display": false
  }
 },
 "nbformat": 4,
 "nbformat_minor": 2
}
